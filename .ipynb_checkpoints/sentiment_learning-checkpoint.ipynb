{
 "cells": [
  {
   "cell_type": "code",
   "execution_count": 4,
   "id": "54a89fb5-b43e-44b3-9411-d16430029dd5",
   "metadata": {},
   "outputs": [],
   "source": [
    "import pandas as pd\n",
    "import numpy as np\n",
    "import matplotlib.pyplot as plt\n",
    "import csv\n",
    "import os\n",
    "import seaborn as sns #could be used to plot"
   ]
  },
  {
   "cell_type": "code",
   "execution_count": 11,
   "id": "1949f09c-3272-4238-8547-458ce81ad24d",
   "metadata": {},
   "outputs": [],
   "source": [
    "#filename = os.getcwd() +r\"\\data\\UkraineCombinedTweetsDeduped_MAR31.csv.gzip\"\n",
    "#print(filename)\n",
    "#df = pd.read_csv(filename, compression='gzip', index_col=0,encoding='utf-8', quoting=csv.QUOTE_ALL)"
   ]
  },
  {
   "cell_type": "code",
   "execution_count": 12,
   "id": "a036365d-f3e6-4ab8-8bb2-8afb49e7278e",
   "metadata": {},
   "outputs": [],
   "source": [
    "#df[0:100].T"
   ]
  },
  {
   "cell_type": "code",
   "execution_count": 15,
   "id": "fc9f2795-aab5-4c92-b326-a139340f45d4",
   "metadata": {},
   "outputs": [],
   "source": [
    "csv_collection = []\n",
    "dir = os.getcwd() +r\"\\data\"\n",
    "for dirname, _, filenames in os.walk(dir):\n",
    "    for filename in filenames:\n",
    "        fullpath= os.path.join(dirname, filename)\n",
    "        csv_collection.append(fullpath)"
   ]
  },
  {
   "cell_type": "code",
   "execution_count": 16,
   "id": "5c5b9765-2ab5-4911-8947-37e4f82463b7",
   "metadata": {},
   "outputs": [
    {
     "data": {
      "text/plain": [
       "['C:\\\\Users\\\\galan\\\\CS549\\\\UkraineWarTwitterSentiment-Machine-Learning\\\\data\\\\0401_UkraineCombinedTweetsDeduped.csv.gzip',\n",
       " 'C:\\\\Users\\\\galan\\\\CS549\\\\UkraineWarTwitterSentiment-Machine-Learning\\\\data\\\\0402_UkraineCombinedTweetsDeduped.csv.gzip',\n",
       " 'C:\\\\Users\\\\galan\\\\CS549\\\\UkraineWarTwitterSentiment-Machine-Learning\\\\data\\\\0403_UkraineCombinedTweetsDeduped.csv.gzip',\n",
       " 'C:\\\\Users\\\\galan\\\\CS549\\\\UkraineWarTwitterSentiment-Machine-Learning\\\\data\\\\0404_UkraineCombinedTweetsDeduped.csv.gzip',\n",
       " 'C:\\\\Users\\\\galan\\\\CS549\\\\UkraineWarTwitterSentiment-Machine-Learning\\\\data\\\\0405_UkraineCombinedTweetsDeduped.csv.gzip',\n",
       " 'C:\\\\Users\\\\galan\\\\CS549\\\\UkraineWarTwitterSentiment-Machine-Learning\\\\data\\\\0406_UkraineCombinedTweetsDeduped.csv.gzip',\n",
       " 'C:\\\\Users\\\\galan\\\\CS549\\\\UkraineWarTwitterSentiment-Machine-Learning\\\\data\\\\UkraineCombinedTweetsDeduped20220227-131611.csv.gzip',\n",
       " 'C:\\\\Users\\\\galan\\\\CS549\\\\UkraineWarTwitterSentiment-Machine-Learning\\\\data\\\\UkraineCombinedTweetsDeduped_FEB27.csv.gzip',\n",
       " 'C:\\\\Users\\\\galan\\\\CS549\\\\UkraineWarTwitterSentiment-Machine-Learning\\\\data\\\\UkraineCombinedTweetsDeduped_FEB28_part1.csv.gzip',\n",
       " 'C:\\\\Users\\\\galan\\\\CS549\\\\UkraineWarTwitterSentiment-Machine-Learning\\\\data\\\\UkraineCombinedTweetsDeduped_FEB28_part2.csv.gzip',\n",
       " 'C:\\\\Users\\\\galan\\\\CS549\\\\UkraineWarTwitterSentiment-Machine-Learning\\\\data\\\\UkraineCombinedTweetsDeduped_MAR01.csv.gzip',\n",
       " 'C:\\\\Users\\\\galan\\\\CS549\\\\UkraineWarTwitterSentiment-Machine-Learning\\\\data\\\\UkraineCombinedTweetsDeduped_MAR02.csv.gzip',\n",
       " 'C:\\\\Users\\\\galan\\\\CS549\\\\UkraineWarTwitterSentiment-Machine-Learning\\\\data\\\\UkraineCombinedTweetsDeduped_MAR03.csv.gzip',\n",
       " 'C:\\\\Users\\\\galan\\\\CS549\\\\UkraineWarTwitterSentiment-Machine-Learning\\\\data\\\\UkraineCombinedTweetsDeduped_MAR04.csv.gzip',\n",
       " 'C:\\\\Users\\\\galan\\\\CS549\\\\UkraineWarTwitterSentiment-Machine-Learning\\\\data\\\\UkraineCombinedTweetsDeduped_MAR05.csv.gzip',\n",
       " 'C:\\\\Users\\\\galan\\\\CS549\\\\UkraineWarTwitterSentiment-Machine-Learning\\\\data\\\\UkraineCombinedTweetsDeduped_MAR06.csv.gzip',\n",
       " 'C:\\\\Users\\\\galan\\\\CS549\\\\UkraineWarTwitterSentiment-Machine-Learning\\\\data\\\\UkraineCombinedTweetsDeduped_MAR07.csv.gzip',\n",
       " 'C:\\\\Users\\\\galan\\\\CS549\\\\UkraineWarTwitterSentiment-Machine-Learning\\\\data\\\\UkraineCombinedTweetsDeduped_MAR08.csv.gzip',\n",
       " 'C:\\\\Users\\\\galan\\\\CS549\\\\UkraineWarTwitterSentiment-Machine-Learning\\\\data\\\\UkraineCombinedTweetsDeduped_MAR09.csv.gzip',\n",
       " 'C:\\\\Users\\\\galan\\\\CS549\\\\UkraineWarTwitterSentiment-Machine-Learning\\\\data\\\\UkraineCombinedTweetsDeduped_MAR10.csv.gzip',\n",
       " 'C:\\\\Users\\\\galan\\\\CS549\\\\UkraineWarTwitterSentiment-Machine-Learning\\\\data\\\\UkraineCombinedTweetsDeduped_MAR11.csv.gzip',\n",
       " 'C:\\\\Users\\\\galan\\\\CS549\\\\UkraineWarTwitterSentiment-Machine-Learning\\\\data\\\\UkraineCombinedTweetsDeduped_MAR12.csv.gzip',\n",
       " 'C:\\\\Users\\\\galan\\\\CS549\\\\UkraineWarTwitterSentiment-Machine-Learning\\\\data\\\\UkraineCombinedTweetsDeduped_MAR13.csv.gzip',\n",
       " 'C:\\\\Users\\\\galan\\\\CS549\\\\UkraineWarTwitterSentiment-Machine-Learning\\\\data\\\\UkraineCombinedTweetsDeduped_MAR14.csv.gzip',\n",
       " 'C:\\\\Users\\\\galan\\\\CS549\\\\UkraineWarTwitterSentiment-Machine-Learning\\\\data\\\\UkraineCombinedTweetsDeduped_MAR15.csv.gzip',\n",
       " 'C:\\\\Users\\\\galan\\\\CS549\\\\UkraineWarTwitterSentiment-Machine-Learning\\\\data\\\\UkraineCombinedTweetsDeduped_MAR16.csv.gzip',\n",
       " 'C:\\\\Users\\\\galan\\\\CS549\\\\UkraineWarTwitterSentiment-Machine-Learning\\\\data\\\\UkraineCombinedTweetsDeduped_MAR17.csv.gzip',\n",
       " 'C:\\\\Users\\\\galan\\\\CS549\\\\UkraineWarTwitterSentiment-Machine-Learning\\\\data\\\\UkraineCombinedTweetsDeduped_MAR18.csv.gzip',\n",
       " 'C:\\\\Users\\\\galan\\\\CS549\\\\UkraineWarTwitterSentiment-Machine-Learning\\\\data\\\\UkraineCombinedTweetsDeduped_MAR19.csv.gzip',\n",
       " 'C:\\\\Users\\\\galan\\\\CS549\\\\UkraineWarTwitterSentiment-Machine-Learning\\\\data\\\\UkraineCombinedTweetsDeduped_MAR20.csv.gzip',\n",
       " 'C:\\\\Users\\\\galan\\\\CS549\\\\UkraineWarTwitterSentiment-Machine-Learning\\\\data\\\\UkraineCombinedTweetsDeduped_MAR21.csv.gzip',\n",
       " 'C:\\\\Users\\\\galan\\\\CS549\\\\UkraineWarTwitterSentiment-Machine-Learning\\\\data\\\\UkraineCombinedTweetsDeduped_MAR22.csv.gzip',\n",
       " 'C:\\\\Users\\\\galan\\\\CS549\\\\UkraineWarTwitterSentiment-Machine-Learning\\\\data\\\\UkraineCombinedTweetsDeduped_MAR23.csv.gzip',\n",
       " 'C:\\\\Users\\\\galan\\\\CS549\\\\UkraineWarTwitterSentiment-Machine-Learning\\\\data\\\\UkraineCombinedTweetsDeduped_MAR24.csv.gzip',\n",
       " 'C:\\\\Users\\\\galan\\\\CS549\\\\UkraineWarTwitterSentiment-Machine-Learning\\\\data\\\\UkraineCombinedTweetsDeduped_MAR25.csv.gzip',\n",
       " 'C:\\\\Users\\\\galan\\\\CS549\\\\UkraineWarTwitterSentiment-Machine-Learning\\\\data\\\\UkraineCombinedTweetsDeduped_MAR26.csv.gzip',\n",
       " 'C:\\\\Users\\\\galan\\\\CS549\\\\UkraineWarTwitterSentiment-Machine-Learning\\\\data\\\\UkraineCombinedTweetsDeduped_MAR27_to_28.csv.gzip',\n",
       " 'C:\\\\Users\\\\galan\\\\CS549\\\\UkraineWarTwitterSentiment-Machine-Learning\\\\data\\\\UkraineCombinedTweetsDeduped_MAR29.csv.gzip',\n",
       " 'C:\\\\Users\\\\galan\\\\CS549\\\\UkraineWarTwitterSentiment-Machine-Learning\\\\data\\\\UkraineCombinedTweetsDeduped_MAR30_REAL.csv.gzip',\n",
       " 'C:\\\\Users\\\\galan\\\\CS549\\\\UkraineWarTwitterSentiment-Machine-Learning\\\\data\\\\UkraineCombinedTweetsDeduped_MAR31.csv.gzip']"
      ]
     },
     "execution_count": 16,
     "metadata": {},
     "output_type": "execute_result"
    }
   ],
   "source": [
    "csv_collection"
   ]
  },
  {
   "cell_type": "code",
   "execution_count": 17,
   "id": "f8ae3757-a7ef-4e72-aca8-220007f9e439",
   "metadata": {},
   "outputs": [
    {
     "name": "stderr",
     "output_type": "stream",
     "text": [
      "C:\\Users\\galan\\AppData\\Roaming\\Python\\Python38\\site-packages\\IPython\\core\\interactiveshell.py:3169: DtypeWarning: Columns (15) have mixed types.Specify dtype option on import or set low_memory=False.\n",
      "  has_raised = await self.run_ast_nodes(code_ast.body, cell_name,\n",
      "c:\\python38\\lib\\site-packages\\numpy\\lib\\arraysetops.py:583: FutureWarning: elementwise comparison failed; returning scalar instead, but in the future will perform elementwise comparison\n",
      "  mask |= (ar1 == a)\n"
     ]
    }
   ],
   "source": [
    "df = pd.read_csv(csv_collection.pop(),compression = 'gzip', index_col=0)\n",
    "for data in csv_collection:\n",
    "    try:\n",
    "        tmp = pd.read_csv(data, compression = 'gzip', index_col=0)\n",
    "    except:\n",
    "            tmp = pd.read_csv(data, index_col = 0)\n",
    "            df = pd.concat([df, tmp], axis=0)"
   ]
  },
  {
   "cell_type": "code",
   "execution_count": 18,
   "id": "3cb9d309-c053-44e3-8ad4-d6c232004312",
   "metadata": {},
   "outputs": [
    {
     "data": {
      "text/plain": [
       "(344515, 17)"
      ]
     },
     "execution_count": 18,
     "metadata": {},
     "output_type": "execute_result"
    }
   ],
   "source": [
    "df.shape"
   ]
  },
  {
   "cell_type": "code",
   "execution_count": 38,
   "id": "a669924e-b447-49e0-bd5d-717b74090d34",
   "metadata": {},
   "outputs": [
    {
     "data": {
      "text/plain": [
       "Index(['userid', 'username', 'acctdesc', 'location', 'following', 'followers',\n",
       "       'totaltweets', 'usercreatedts', 'tweetid', 'tweetcreatedts',\n",
       "       'retweetcount', 'text', 'hashtags', 'language', 'coordinates',\n",
       "       'favorite_count', 'extractedts'],\n",
       "      dtype='object')"
      ]
     },
     "execution_count": 38,
     "metadata": {},
     "output_type": "execute_result"
    }
   ],
   "source": [
    "df.columns"
   ]
  },
  {
   "cell_type": "code",
   "execution_count": 39,
   "id": "710fddff-a8e1-45eb-aa1e-c904accc05c6",
   "metadata": {},
   "outputs": [],
   "source": [
    "df.groupby('language').nunique()\n",
    "engishDataset = df[df.language == 'en'].drop('language', axis=1) # we will only use enlgish dataset"
   ]
  },
  {
   "cell_type": "code",
   "execution_count": 40,
   "id": "e04f4b01-b78e-497e-826f-a3206c8400b4",
   "metadata": {},
   "outputs": [],
   "source": [
    "testData = engishDataset[['username', 'text','retweetcount','tweetid', ]].sort_values(by = 'retweetcount', ascending=False) # sorted for most popular i.e. retweeted tweets"
   ]
  },
  {
   "cell_type": "code",
   "execution_count": 44,
   "id": "7b9bc001-f71a-4b7f-a175-9ba95bf9a963",
   "metadata": {},
   "outputs": [
    {
     "name": "stdout",
     "output_type": "stream",
     "text": [
      ".@ZelenskyyUa's tv address to the Russian (!) people might be the most moving speech that I've ever seen in my entire life. The whole world needs to see, understand and share this crucial Ukrainian message.\n",
      "#StandWithUkraine #Ukraine #Україна #Russia #Россия https://t.co/WoMOgqXTWX\n"
     ]
    }
   ],
   "source": [
    "most_retweeted = testData.iloc[0]\n",
    "print(most_retweeted.text)"
   ]
  },
  {
   "cell_type": "code",
   "execution_count": 26,
   "id": "df674125-71ac-4a29-9bf9-903e397b320e",
   "metadata": {},
   "outputs": [
    {
     "data": {
      "text/html": [
       "<div>\n",
       "<style scoped>\n",
       "    .dataframe tbody tr th:only-of-type {\n",
       "        vertical-align: middle;\n",
       "    }\n",
       "\n",
       "    .dataframe tbody tr th {\n",
       "        vertical-align: top;\n",
       "    }\n",
       "\n",
       "    .dataframe thead th {\n",
       "        text-align: right;\n",
       "    }\n",
       "</style>\n",
       "<table border=\"1\" class=\"dataframe\">\n",
       "  <thead>\n",
       "    <tr style=\"text-align: right;\">\n",
       "      <th></th>\n",
       "      <th>username</th>\n",
       "      <th>text</th>\n",
       "      <th>retweetcount</th>\n",
       "      <th>tweetid</th>\n",
       "    </tr>\n",
       "  </thead>\n",
       "  <tbody>\n",
       "    <tr>\n",
       "      <th>152809</th>\n",
       "      <td>Cyb3ric</td>\n",
       "      <td>A true #Anonymous https://t.co/fq1E192I6S</td>\n",
       "      <td>0</td>\n",
       "      <td>1509500003781427207</td>\n",
       "    </tr>\n",
       "    <tr>\n",
       "      <th>152800</th>\n",
       "      <td>RagnarFurup</td>\n",
       "      <td>What a surprise! Russia is not withdrawing tro...</td>\n",
       "      <td>0</td>\n",
       "      <td>1509499983237902340</td>\n",
       "    </tr>\n",
       "    <tr>\n",
       "      <th>152793</th>\n",
       "      <td>Hetreeli</td>\n",
       "      <td>#Russian marines fighting #Azov in #Mariupol 👇...</td>\n",
       "      <td>0</td>\n",
       "      <td>1509499963197333512</td>\n",
       "    </tr>\n",
       "    <tr>\n",
       "      <th>152781</th>\n",
       "      <td>indohurley</td>\n",
       "      <td>Children of #Ukraine #TikTok https://t.co/jBjD...</td>\n",
       "      <td>0</td>\n",
       "      <td>1509499952938250258</td>\n",
       "    </tr>\n",
       "    <tr>\n",
       "      <th>152779</th>\n",
       "      <td>tonymony3</td>\n",
       "      <td>@Andrews2cents @Breaking911 Russia is going BR...</td>\n",
       "      <td>0</td>\n",
       "      <td>1509499952153702401</td>\n",
       "    </tr>\n",
       "    <tr>\n",
       "      <th>152775</th>\n",
       "      <td>AraVanady</td>\n",
       "      <td>Got this pic from #Germany: #Putin-Fans put #s...</td>\n",
       "      <td>0</td>\n",
       "      <td>1509499950241136642</td>\n",
       "    </tr>\n",
       "    <tr>\n",
       "      <th>152773</th>\n",
       "      <td>Sautoc_Damonc</td>\n",
       "      <td>@lesiavasylenko God grace the people of #Ukrai...</td>\n",
       "      <td>0</td>\n",
       "      <td>1509499948634710020</td>\n",
       "    </tr>\n",
       "    <tr>\n",
       "      <th>288370</th>\n",
       "      <td>PeterBrandt007</td>\n",
       "      <td>Treasury hits Russia with new sanctions target...</td>\n",
       "      <td>0</td>\n",
       "      <td>1509621278310756353</td>\n",
       "    </tr>\n",
       "    <tr>\n",
       "      <th>152756</th>\n",
       "      <td>Tiziano_Marino</td>\n",
       "      <td>#India will be the focus of world diplomacy in...</td>\n",
       "      <td>0</td>\n",
       "      <td>1509499931173740544</td>\n",
       "    </tr>\n",
       "    <tr>\n",
       "      <th>0</th>\n",
       "      <td>Barrie360</td>\n",
       "      <td>Humanitarian drive in Midhurst sends medicine,...</td>\n",
       "      <td>0</td>\n",
       "      <td>1509319562654720000</td>\n",
       "    </tr>\n",
       "  </tbody>\n",
       "</table>\n",
       "</div>"
      ],
      "text/plain": [
       "              username                                               text  \\\n",
       "152809         Cyb3ric          A true #Anonymous https://t.co/fq1E192I6S   \n",
       "152800     RagnarFurup  What a surprise! Russia is not withdrawing tro...   \n",
       "152793        Hetreeli  #Russian marines fighting #Azov in #Mariupol 👇...   \n",
       "152781      indohurley  Children of #Ukraine #TikTok https://t.co/jBjD...   \n",
       "152779       tonymony3  @Andrews2cents @Breaking911 Russia is going BR...   \n",
       "152775       AraVanady  Got this pic from #Germany: #Putin-Fans put #s...   \n",
       "152773   Sautoc_Damonc  @lesiavasylenko God grace the people of #Ukrai...   \n",
       "288370  PeterBrandt007  Treasury hits Russia with new sanctions target...   \n",
       "152756  Tiziano_Marino  #India will be the focus of world diplomacy in...   \n",
       "0            Barrie360  Humanitarian drive in Midhurst sends medicine,...   \n",
       "\n",
       "        retweetcount              tweetid  \n",
       "152809             0  1509500003781427207  \n",
       "152800             0  1509499983237902340  \n",
       "152793             0  1509499963197333512  \n",
       "152781             0  1509499952938250258  \n",
       "152779             0  1509499952153702401  \n",
       "152775             0  1509499950241136642  \n",
       "152773             0  1509499948634710020  \n",
       "288370             0  1509621278310756353  \n",
       "152756             0  1509499931173740544  \n",
       "0                  0  1509319562654720000  "
      ]
     },
     "execution_count": 26,
     "metadata": {},
     "output_type": "execute_result"
    }
   ],
   "source": [
    "sorted_tweets.tail(10) #least popular tweets"
   ]
  },
  {
   "cell_type": "code",
   "execution_count": null,
   "id": "9a6cb743-ce48-4371-b3a9-764a6b967b0a",
   "metadata": {},
   "outputs": [],
   "source": []
  }
 ],
 "metadata": {
  "kernelspec": {
   "display_name": "Python 3",
   "language": "python",
   "name": "python3"
  },
  "language_info": {
   "codemirror_mode": {
    "name": "ipython",
    "version": 3
   },
   "file_extension": ".py",
   "mimetype": "text/x-python",
   "name": "python",
   "nbconvert_exporter": "python",
   "pygments_lexer": "ipython3",
   "version": "3.8.3"
  }
 },
 "nbformat": 4,
 "nbformat_minor": 5
}
