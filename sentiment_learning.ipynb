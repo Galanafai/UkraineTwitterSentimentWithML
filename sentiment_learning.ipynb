{
 "cells": [
  {
   "cell_type": "code",
   "execution_count": 13,
   "id": "54a89fb5-b43e-44b3-9411-d16430029dd5",
   "metadata": {},
   "outputs": [],
   "source": [
    "import pandas as pd\n",
    "import numpy as np\n",
    "import matplotlib.pyplot as plt\n",
    "import csv\n",
    "import os\n",
    "import seaborn as sns #could be used to plot\n",
    "from flair.models import TextClassifier #models from flair to test for sentiment\n",
    "from flair.data import Sentence"
   ]
  },
  {
   "cell_type": "code",
   "execution_count": 14,
   "id": "8a094045-23e1-492d-813f-8f1b72837658",
   "metadata": {},
   "outputs": [
    {
     "name": "stdout",
     "output_type": "stream",
     "text": [
      "2022-04-09 16:39:56,305 loading file C:\\Users\\galan\\.flair\\models\\sentiment-en-mix-distillbert_4.pt\n"
     ]
    }
   ],
   "source": [
    "sia = TextClassifier.load('en-sentiment')"
   ]
  },
  {
   "cell_type": "code",
   "execution_count": 15,
   "id": "1949f09c-3272-4238-8547-458ce81ad24d",
   "metadata": {},
   "outputs": [],
   "source": [
    "def flair_prediction(x):\n",
    "    sentence = Sentence(x)\n",
    "    sia.predict(sentence)\n",
    "    score = sentence.labels[0]\n",
    "    if \"POSITIVE\" in str(score):\n",
    "        return \"pos\"\n",
    "    elif \"NEGATIVE\" in str(score):\n",
    "        return \"neg\"\n",
    "    else:\n",
    "        return \"neu\""
   ]
  },
  {
   "cell_type": "code",
   "execution_count": 16,
   "id": "fc9f2795-aab5-4c92-b326-a139340f45d4",
   "metadata": {},
   "outputs": [],
   "source": [
    "csv_collection = []\n",
    "dir = os.getcwd() +r\"\\data\"\n",
    "for dirname, _, filenames in os.walk(dir):\n",
    "    for filename in filenames:\n",
    "        fullpath= os.path.join(dirname, filename)\n",
    "        csv_collection.append(fullpath)"
   ]
  },
  {
   "cell_type": "code",
   "execution_count": 17,
   "id": "5c5b9765-2ab5-4911-8947-37e4f82463b7",
   "metadata": {},
   "outputs": [
    {
     "data": {
      "text/plain": [
       "['C:\\\\Users\\\\galan\\\\CS549\\\\Ukraine-Twitter-Sentiment-ML\\\\data\\\\0401_UkraineCombinedTweetsDeduped.csv.gzip',\n",
       " 'C:\\\\Users\\\\galan\\\\CS549\\\\Ukraine-Twitter-Sentiment-ML\\\\data\\\\0402_UkraineCombinedTweetsDeduped.csv.gzip',\n",
       " 'C:\\\\Users\\\\galan\\\\CS549\\\\Ukraine-Twitter-Sentiment-ML\\\\data\\\\0403_UkraineCombinedTweetsDeduped.csv.gzip',\n",
       " 'C:\\\\Users\\\\galan\\\\CS549\\\\Ukraine-Twitter-Sentiment-ML\\\\data\\\\0404_UkraineCombinedTweetsDeduped.csv.gzip',\n",
       " 'C:\\\\Users\\\\galan\\\\CS549\\\\Ukraine-Twitter-Sentiment-ML\\\\data\\\\0405_UkraineCombinedTweetsDeduped.csv.gzip',\n",
       " 'C:\\\\Users\\\\galan\\\\CS549\\\\Ukraine-Twitter-Sentiment-ML\\\\data\\\\0406_UkraineCombinedTweetsDeduped.csv.gzip',\n",
       " 'C:\\\\Users\\\\galan\\\\CS549\\\\Ukraine-Twitter-Sentiment-ML\\\\data\\\\UkraineCombinedTweetsDeduped20220227-131611.csv.gzip',\n",
       " 'C:\\\\Users\\\\galan\\\\CS549\\\\Ukraine-Twitter-Sentiment-ML\\\\data\\\\UkraineCombinedTweetsDeduped_FEB27.csv.gzip',\n",
       " 'C:\\\\Users\\\\galan\\\\CS549\\\\Ukraine-Twitter-Sentiment-ML\\\\data\\\\UkraineCombinedTweetsDeduped_FEB28_part1.csv.gzip',\n",
       " 'C:\\\\Users\\\\galan\\\\CS549\\\\Ukraine-Twitter-Sentiment-ML\\\\data\\\\UkraineCombinedTweetsDeduped_FEB28_part2.csv.gzip',\n",
       " 'C:\\\\Users\\\\galan\\\\CS549\\\\Ukraine-Twitter-Sentiment-ML\\\\data\\\\UkraineCombinedTweetsDeduped_MAR01.csv.gzip',\n",
       " 'C:\\\\Users\\\\galan\\\\CS549\\\\Ukraine-Twitter-Sentiment-ML\\\\data\\\\UkraineCombinedTweetsDeduped_MAR02.csv.gzip',\n",
       " 'C:\\\\Users\\\\galan\\\\CS549\\\\Ukraine-Twitter-Sentiment-ML\\\\data\\\\UkraineCombinedTweetsDeduped_MAR03.csv.gzip',\n",
       " 'C:\\\\Users\\\\galan\\\\CS549\\\\Ukraine-Twitter-Sentiment-ML\\\\data\\\\UkraineCombinedTweetsDeduped_MAR04.csv.gzip',\n",
       " 'C:\\\\Users\\\\galan\\\\CS549\\\\Ukraine-Twitter-Sentiment-ML\\\\data\\\\UkraineCombinedTweetsDeduped_MAR05.csv.gzip',\n",
       " 'C:\\\\Users\\\\galan\\\\CS549\\\\Ukraine-Twitter-Sentiment-ML\\\\data\\\\UkraineCombinedTweetsDeduped_MAR06.csv.gzip',\n",
       " 'C:\\\\Users\\\\galan\\\\CS549\\\\Ukraine-Twitter-Sentiment-ML\\\\data\\\\UkraineCombinedTweetsDeduped_MAR07.csv.gzip',\n",
       " 'C:\\\\Users\\\\galan\\\\CS549\\\\Ukraine-Twitter-Sentiment-ML\\\\data\\\\UkraineCombinedTweetsDeduped_MAR08.csv.gzip',\n",
       " 'C:\\\\Users\\\\galan\\\\CS549\\\\Ukraine-Twitter-Sentiment-ML\\\\data\\\\UkraineCombinedTweetsDeduped_MAR09.csv.gzip',\n",
       " 'C:\\\\Users\\\\galan\\\\CS549\\\\Ukraine-Twitter-Sentiment-ML\\\\data\\\\UkraineCombinedTweetsDeduped_MAR10.csv.gzip',\n",
       " 'C:\\\\Users\\\\galan\\\\CS549\\\\Ukraine-Twitter-Sentiment-ML\\\\data\\\\UkraineCombinedTweetsDeduped_MAR11.csv.gzip',\n",
       " 'C:\\\\Users\\\\galan\\\\CS549\\\\Ukraine-Twitter-Sentiment-ML\\\\data\\\\UkraineCombinedTweetsDeduped_MAR12.csv.gzip',\n",
       " 'C:\\\\Users\\\\galan\\\\CS549\\\\Ukraine-Twitter-Sentiment-ML\\\\data\\\\UkraineCombinedTweetsDeduped_MAR13.csv.gzip',\n",
       " 'C:\\\\Users\\\\galan\\\\CS549\\\\Ukraine-Twitter-Sentiment-ML\\\\data\\\\UkraineCombinedTweetsDeduped_MAR14.csv.gzip',\n",
       " 'C:\\\\Users\\\\galan\\\\CS549\\\\Ukraine-Twitter-Sentiment-ML\\\\data\\\\UkraineCombinedTweetsDeduped_MAR15.csv.gzip',\n",
       " 'C:\\\\Users\\\\galan\\\\CS549\\\\Ukraine-Twitter-Sentiment-ML\\\\data\\\\UkraineCombinedTweetsDeduped_MAR16.csv.gzip',\n",
       " 'C:\\\\Users\\\\galan\\\\CS549\\\\Ukraine-Twitter-Sentiment-ML\\\\data\\\\UkraineCombinedTweetsDeduped_MAR17.csv.gzip',\n",
       " 'C:\\\\Users\\\\galan\\\\CS549\\\\Ukraine-Twitter-Sentiment-ML\\\\data\\\\UkraineCombinedTweetsDeduped_MAR18.csv.gzip',\n",
       " 'C:\\\\Users\\\\galan\\\\CS549\\\\Ukraine-Twitter-Sentiment-ML\\\\data\\\\UkraineCombinedTweetsDeduped_MAR19.csv.gzip',\n",
       " 'C:\\\\Users\\\\galan\\\\CS549\\\\Ukraine-Twitter-Sentiment-ML\\\\data\\\\UkraineCombinedTweetsDeduped_MAR20.csv.gzip',\n",
       " 'C:\\\\Users\\\\galan\\\\CS549\\\\Ukraine-Twitter-Sentiment-ML\\\\data\\\\UkraineCombinedTweetsDeduped_MAR21.csv.gzip',\n",
       " 'C:\\\\Users\\\\galan\\\\CS549\\\\Ukraine-Twitter-Sentiment-ML\\\\data\\\\UkraineCombinedTweetsDeduped_MAR22.csv.gzip',\n",
       " 'C:\\\\Users\\\\galan\\\\CS549\\\\Ukraine-Twitter-Sentiment-ML\\\\data\\\\UkraineCombinedTweetsDeduped_MAR23.csv.gzip',\n",
       " 'C:\\\\Users\\\\galan\\\\CS549\\\\Ukraine-Twitter-Sentiment-ML\\\\data\\\\UkraineCombinedTweetsDeduped_MAR24.csv.gzip',\n",
       " 'C:\\\\Users\\\\galan\\\\CS549\\\\Ukraine-Twitter-Sentiment-ML\\\\data\\\\UkraineCombinedTweetsDeduped_MAR25.csv.gzip',\n",
       " 'C:\\\\Users\\\\galan\\\\CS549\\\\Ukraine-Twitter-Sentiment-ML\\\\data\\\\UkraineCombinedTweetsDeduped_MAR26.csv.gzip',\n",
       " 'C:\\\\Users\\\\galan\\\\CS549\\\\Ukraine-Twitter-Sentiment-ML\\\\data\\\\UkraineCombinedTweetsDeduped_MAR27_to_28.csv.gzip',\n",
       " 'C:\\\\Users\\\\galan\\\\CS549\\\\Ukraine-Twitter-Sentiment-ML\\\\data\\\\UkraineCombinedTweetsDeduped_MAR29.csv.gzip',\n",
       " 'C:\\\\Users\\\\galan\\\\CS549\\\\Ukraine-Twitter-Sentiment-ML\\\\data\\\\UkraineCombinedTweetsDeduped_MAR30_REAL.csv.gzip',\n",
       " 'C:\\\\Users\\\\galan\\\\CS549\\\\Ukraine-Twitter-Sentiment-ML\\\\data\\\\UkraineCombinedTweetsDeduped_MAR31.csv.gzip']"
      ]
     },
     "execution_count": 17,
     "metadata": {},
     "output_type": "execute_result"
    }
   ],
   "source": [
    "csv_collection"
   ]
  },
  {
   "cell_type": "code",
   "execution_count": 18,
   "id": "f8ae3757-a7ef-4e72-aca8-220007f9e439",
   "metadata": {},
   "outputs": [
    {
     "name": "stderr",
     "output_type": "stream",
     "text": [
      "C:\\Users\\galan\\AppData\\Roaming\\Python\\Python38\\site-packages\\IPython\\core\\interactiveshell.py:3169: DtypeWarning: Columns (15) have mixed types.Specify dtype option on import or set low_memory=False.\n",
      "  has_raised = await self.run_ast_nodes(code_ast.body, cell_name,\n",
      "c:\\python38\\lib\\site-packages\\numpy\\lib\\arraysetops.py:583: FutureWarning: elementwise comparison failed; returning scalar instead, but in the future will perform elementwise comparison\n",
      "  mask |= (ar1 == a)\n"
     ]
    }
   ],
   "source": [
    "df = pd.read_csv(csv_collection.pop(),compression = 'gzip', index_col=0)\n",
    "for data in csv_collection:\n",
    "    try:\n",
    "        tmp = pd.read_csv(data, compression = 'gzip', index_col=0)\n",
    "    except:\n",
    "            tmp = pd.read_csv(data, index_col = 0)\n",
    "            df = pd.concat([df, tmp], axis=0)"
   ]
  },
  {
   "cell_type": "code",
   "execution_count": 19,
   "id": "3cb9d309-c053-44e3-8ad4-d6c232004312",
   "metadata": {},
   "outputs": [
    {
     "data": {
      "text/plain": [
       "(344515, 17)"
      ]
     },
     "execution_count": 19,
     "metadata": {},
     "output_type": "execute_result"
    }
   ],
   "source": [
    "df.shape"
   ]
  },
  {
   "cell_type": "code",
   "execution_count": 20,
   "id": "a669924e-b447-49e0-bd5d-717b74090d34",
   "metadata": {},
   "outputs": [
    {
     "data": {
      "text/plain": [
       "Index(['userid', 'username', 'acctdesc', 'location', 'following', 'followers',\n",
       "       'totaltweets', 'usercreatedts', 'tweetid', 'tweetcreatedts',\n",
       "       'retweetcount', 'text', 'hashtags', 'language', 'coordinates',\n",
       "       'favorite_count', 'extractedts'],\n",
       "      dtype='object')"
      ]
     },
     "execution_count": 20,
     "metadata": {},
     "output_type": "execute_result"
    }
   ],
   "source": [
    "df.columns"
   ]
  },
  {
   "cell_type": "code",
   "execution_count": 21,
   "id": "710fddff-a8e1-45eb-aa1e-c904accc05c6",
   "metadata": {},
   "outputs": [],
   "source": [
    "df.groupby('language').nunique()\n",
    "engishDataset = df[df.language == 'en'].drop('language', axis=1) # we will only use enlgish dataset"
   ]
  },
  {
   "cell_type": "code",
   "execution_count": 26,
   "id": "e04f4b01-b78e-497e-826f-a3206c8400b4",
   "metadata": {},
   "outputs": [],
   "source": [
    "sortedtweets = engishDataset[['username', 'text','retweetcount','tweetid', ]].sort_values(by = 'retweetcount', ascending=False) # sorted for most popular i.e. retweeted tweets"
   ]
  },
  {
   "cell_type": "code",
   "execution_count": 30,
   "id": "7b9bc001-f71a-4b7f-a175-9ba95bf9a963",
   "metadata": {},
   "outputs": [
    {
     "name": "stdout",
     "output_type": "stream",
     "text": [
      ".@ZelenskyyUa's tv address to the Russian (!) people might be the most moving speech that I've ever seen in my entire life. The whole world needs to see, understand and share this crucial Ukrainian message.\n",
      "#StandWithUkraine #Ukraine #Україна #Russia #Россия https://t.co/WoMOgqXTWX\n"
     ]
    }
   ],
   "source": [
    "most_retweeted = testData.iloc[0]\n",
    "print(most_retweeted.text)"
   ]
  },
  {
   "cell_type": "code",
   "execution_count": 31,
   "id": "df674125-71ac-4a29-9bf9-903e397b320e",
   "metadata": {},
   "outputs": [
    {
     "data": {
      "text/plain": [
       "username                                          ksongwriter5960\n",
       "text            .@ZelenskyyUa's tv address to the Russian (!) ...\n",
       "retweetcount                                               147087\n",
       "tweetid                                       1509336138422669313\n",
       "Name: 12581, dtype: object"
      ]
     },
     "execution_count": 31,
     "metadata": {},
     "output_type": "execute_result"
    }
   ],
   "source": [
    "most_retweeted.tail(10) #least popular tweets"
   ]
  },
  {
   "cell_type": "code",
   "execution_count": null,
   "id": "3d449444-15ad-4ade-91fc-288f7d1bbda7",
   "metadata": {},
   "outputs": [],
   "source": [
    "sortedtweets[\"sentiment\"] = sortedtweets['text'].apply(flair_prediction)"
   ]
  },
  {
   "cell_type": "code",
   "execution_count": null,
   "id": "5267fad5-3f22-493b-b605-27f105484495",
   "metadata": {},
   "outputs": [],
   "source": []
  }
 ],
 "metadata": {
  "kernelspec": {
   "display_name": "Python 3",
   "language": "python",
   "name": "python3"
  },
  "language_info": {
   "codemirror_mode": {
    "name": "ipython",
    "version": 3
   },
   "file_extension": ".py",
   "mimetype": "text/x-python",
   "name": "python",
   "nbconvert_exporter": "python",
   "pygments_lexer": "ipython3",
   "version": "3.8.3"
  }
 },
 "nbformat": 4,
 "nbformat_minor": 5
}
