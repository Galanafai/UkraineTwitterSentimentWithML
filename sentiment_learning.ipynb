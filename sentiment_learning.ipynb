{
 "cells": [
  {
   "cell_type": "code",
   "execution_count": 1,
   "id": "54a89fb5-b43e-44b3-9411-d16430029dd5",
   "metadata": {},
   "outputs": [],
   "source": [
    "import pandas as pd\n",
    "import numpy as np\n",
    "import matplotlib.pyplot as plt\n",
    "import csv\n",
    "import os\n",
    "import nltk #would need to downlioad nltk. like nltk.download() in python terminal\n",
    "import seaborn as sns #could be used to plot\n",
    "from nltk.tokenize import word_tokenize\n",
    "from flair.models import TextClassifier #models from flair to test for sentiment\n",
    "from flair.data import Sentence\n",
    "from nltk import word_tokenize, sent_tokenize\n",
    "from nltk.corpus import stopwords\n",
    "from nltk.stem import LancasterStemmer, WordNetLemmatizer, PorterStemmer\n",
    "from wordcloud import WordCloud, STOPWORDS\n",
    "from textblob import TextBlob"
   ]
  },
  {
   "cell_type": "code",
   "execution_count": 4,
   "id": "fc9f2795-aab5-4c92-b326-a139340f45d4",
   "metadata": {},
   "outputs": [],
   "source": [
    "csv_collection = []\n",
    "dir = os.getcwd() +r\"\\data\"\n",
    "for dirname, _, filenames in os.walk(dir):\n",
    "    for filename in filenames:\n",
    "        fullpath= os.path.join(dirname, filename)\n",
    "        csv_collection.append(fullpath)"
   ]
  },
  {
   "cell_type": "code",
   "execution_count": 5,
   "id": "5c5b9765-2ab5-4911-8947-37e4f82463b7",
   "metadata": {},
   "outputs": [
    {
     "data": {
      "text/plain": [
       "['C:\\\\Users\\\\galan\\\\CS549\\\\Ukraine-Twitter-Sentiment-ML\\\\data\\\\UkraineCombinedTweetsDeduped_MAR31.csv.gzip']"
      ]
     },
     "execution_count": 5,
     "metadata": {},
     "output_type": "execute_result"
    }
   ],
   "source": [
    "csv_collection"
   ]
  },
  {
   "cell_type": "code",
   "execution_count": 6,
   "id": "f8ae3757-a7ef-4e72-aca8-220007f9e439",
   "metadata": {},
   "outputs": [],
   "source": [
    "df = pd.read_csv(csv_collection.pop(),compression = 'gzip', index_col=0)\n",
    "for data in csv_collection:\n",
    "    try:\n",
    "        tmp = pd.read_csv(data, compression = 'gzip', index_col=0)\n",
    "    except:\n",
    "            tmp = pd.read_csv(data, index_col = 0)\n",
    "            df = pd.concat([df, tmp], axis=0)"
   ]
  },
  {
   "cell_type": "code",
   "execution_count": 7,
   "id": "3cb9d309-c053-44e3-8ad4-d6c232004312",
   "metadata": {},
   "outputs": [
    {
     "data": {
      "text/plain": [
       "(344515, 17)"
      ]
     },
     "execution_count": 7,
     "metadata": {},
     "output_type": "execute_result"
    }
   ],
   "source": [
    "df.shape"
   ]
  },
  {
   "cell_type": "code",
   "execution_count": 8,
   "id": "a669924e-b447-49e0-bd5d-717b74090d34",
   "metadata": {},
   "outputs": [
    {
     "data": {
      "text/plain": [
       "Index(['userid', 'username', 'acctdesc', 'location', 'following', 'followers',\n",
       "       'totaltweets', 'usercreatedts', 'tweetid', 'tweetcreatedts',\n",
       "       'retweetcount', 'text', 'hashtags', 'language', 'coordinates',\n",
       "       'favorite_count', 'extractedts'],\n",
       "      dtype='object')"
      ]
     },
     "execution_count": 8,
     "metadata": {},
     "output_type": "execute_result"
    }
   ],
   "source": [
    "df.columns"
   ]
  },
  {
   "cell_type": "code",
   "execution_count": 9,
   "id": "710fddff-a8e1-45eb-aa1e-c904accc05c6",
   "metadata": {},
   "outputs": [],
   "source": [
    "df.groupby('language').nunique()\n",
    "engishDataset = df[df.language == 'en'].drop('language', axis=1) # we will only use enlgish dataset"
   ]
  },
  {
   "cell_type": "code",
   "execution_count": 10,
   "id": "e04f4b01-b78e-497e-826f-a3206c8400b4",
   "metadata": {},
   "outputs": [],
   "source": [
    "sortedtweets = engishDataset[['username', 'text','retweetcount','tweetid', ]].sort_values(by = 'retweetcount', ascending=False) # sorted for most popular i.e. retweeted tweets"
   ]
  },
  {
   "cell_type": "code",
   "execution_count": 13,
   "id": "3d449444-15ad-4ade-91fc-288f7d1bbda7",
   "metadata": {},
   "outputs": [],
   "source": [
    "#sortedtweets[\"sentiment\"] = sortedtweets['text'].apply(flair_prediction)"
   ]
  },
  {
   "cell_type": "code",
   "execution_count": 14,
   "id": "e027f5a7-0fe9-4969-bd63-3679ac519d51",
   "metadata": {},
   "outputs": [],
   "source": [
    "sortedtweets['text'] = sortedtweets['text'].astype(str) #change tweets to type sting do this to lowecase"
   ]
  },
  {
   "cell_type": "code",
   "execution_count": 15,
   "id": "4959d5b4-1004-4f1b-b1c8-8430689a7d83",
   "metadata": {},
   "outputs": [
    {
     "data": {
      "text/plain": [
       "'This morning, #LetUsPray for #RussiaUkraine through praying of the Holy Rosary leading us to true peace and love.\\n\\nMary, Queen of the Rosary, make us realize our need to pray and to love.\\n\\nVideo: https://t.co/BmIC0vFFAD\\n\\n#Kuwaresma2022 #ParokyaNiSid #SILPAntipolo'"
      ]
     },
     "execution_count": 15,
     "metadata": {},
     "output_type": "execute_result"
    }
   ],
   "source": [
    "sortedtweets['text'][1]"
   ]
  },
  {
   "cell_type": "code",
   "execution_count": 16,
   "id": "8ddeda9f-e810-45b8-b967-1c3a1a75df5e",
   "metadata": {},
   "outputs": [
    {
     "data": {
      "text/plain": [
       "'this morning, #letuspray for #russiaukraine through praying of the holy rosary leading us to true peace and love. mary, queen of the rosary, make us realize our need to pray and to love. video: https://t.co/bmic0vffad #kuwaresma2022 #parokyanisid #silpantipolo'"
      ]
     },
     "execution_count": 16,
     "metadata": {},
     "output_type": "execute_result"
    }
   ],
   "source": [
    "#lowercase tweets to make for easy sentiment anaylsis\n",
    "sortedtweets['text'] = sortedtweets['text'].apply(lambda x: \" \".join(x.lower() for x in x.split()))\n",
    "sortedtweets['text'][1] ## to see the difference"
   ]
  },
  {
   "cell_type": "code",
   "execution_count": 18,
   "id": "8b6398b0-23ca-4969-b2ab-196ca99b1bcb",
   "metadata": {},
   "outputs": [
    {
     "data": {
      "text/plain": [
       "'morning, #letuspray #russiaukraine praying holy rosary leading us true peace love. mary, queen rosary, make us realize need pray love. video: https://t.co/bmic0vffad #kuwaresma2022 #parokyanisid #silpantipolo'"
      ]
     },
     "execution_count": 18,
     "metadata": {},
     "output_type": "execute_result"
    }
   ],
   "source": [
    "stop = stopwords.words('english') # Stop-words being most commonly used in the English language; however, these words have no predictive power in reality. Words such as I, me, myself, he, she, they, our, mine, you, yours etc\n",
    "#sortedtweets['tokenized_text'] = sortedtweets['text'].apply(word_tokenize) \n",
    "sortedtweets['text'] = sortedtweets['text'].apply(lambda x: \" \".join(x for x in x.split() if x not in stop))\n",
    "sortedtweets['text'][1] ## to see the difference"
   ]
  },
  {
   "cell_type": "code",
   "execution_count": 25,
   "id": "3925ff3b-8f02-4120-99a7-7439e228a529",
   "metadata": {},
   "outputs": [],
   "source": [
    "#Stemming helps to gain relevant information as it reduces all words with the same roots to a common form by removing suffixes such as -action, ing, -es and -se\n",
    "st = PorterStemmer()\n",
    "sortedtweets['text'] = sortedtweets['text'].apply(lambda x: \" \".join([st.stem(word) for word in x.split()]))"
   ]
  },
  {
   "cell_type": "code",
   "execution_count": 28,
   "id": "74059252-be37-45ac-b6a6-fed9bdcb6bbe",
   "metadata": {},
   "outputs": [],
   "source": [
    "sortedtweets['tokenized_text'] = sortedtweets['text'].apply(word_tokenize) "
   ]
  },
  {
   "cell_type": "code",
   "execution_count": 35,
   "id": "8e4933ac-389e-45ab-b72e-51fe78e4085e",
   "metadata": {},
   "outputs": [],
   "source": [
    "sortedtweets['tokenized_text'] = sortedtweets['tokenized_text'].astype(str) #change tweets to type string "
   ]
  },
  {
   "cell_type": "code",
   "execution_count": 121,
   "id": "dbf1c145-85f5-4187-84c7-c1d9ba8a9455",
   "metadata": {},
   "outputs": [],
   "source": [
    "# function to calculate polarity\n",
    "def getPolarity(review):\n",
    "    return TextBlob(review).sentiment.polarity"
   ]
  },
  {
   "cell_type": "code",
   "execution_count": 122,
   "id": "b2f021de-c13a-4f81-8aca-5b073c14383a",
   "metadata": {},
   "outputs": [],
   "source": [
    "# function to analyze the tweets\n",
    "def analysis(score):\n",
    "    if score < 0:\n",
    "        return 'Negative'\n",
    "    elif score == 0:\n",
    "        return 'Neutral'\n",
    "    else:\n",
    "        return 'Positive'"
   ]
  },
  {
   "cell_type": "code",
   "execution_count": 123,
   "id": "9a65b668-a04a-4266-9a46-5fb54ccc99b7",
   "metadata": {},
   "outputs": [],
   "source": [
    "def Neutralnum(x):\n",
    "    #s= 'Neutral'\n",
    "    if x == 'Neutral':\n",
    "        return 1\n",
    "    else:\n",
    "        return 0"
   ]
  },
  {
   "cell_type": "code",
   "execution_count": 124,
   "id": "2b24fc45-3005-4cb1-a5a0-e9c4e3deee21",
   "metadata": {},
   "outputs": [],
   "source": [
    "def posNum(x):\n",
    "    if x == 'Positive':\n",
    "        return 1\n",
    "    else:\n",
    "        return 0"
   ]
  },
  {
   "cell_type": "code",
   "execution_count": 125,
   "id": "ed94a23f-ed44-40c3-a001-7197dcf169b1",
   "metadata": {},
   "outputs": [],
   "source": [
    "def negNum(x):\n",
    "    if x == 'Negative':\n",
    "        return 1\n",
    "    else:\n",
    "        return 0"
   ]
  },
  {
   "cell_type": "code",
   "execution_count": 126,
   "id": "88815f2c-aa43-4df9-97f4-0f603256d30e",
   "metadata": {},
   "outputs": [],
   "source": [
    "sortedtweets['Polarity'] = sortedtweets['tokenized_text'].apply(getPolarity)"
   ]
  },
  {
   "cell_type": "code",
   "execution_count": 127,
   "id": "37f599ad-1336-4473-aee9-5629c3d2cd30",
   "metadata": {},
   "outputs": [],
   "source": [
    "sortedtweets['Analysis'] = sortedtweets['Polarity'].apply(analysis) #Will store final anayslsis of sentiment. Done by text Blob"
   ]
  },
  {
   "cell_type": "code",
   "execution_count": 128,
   "id": "8018375b-9d82-4bd9-9204-6b9c796ebd97",
   "metadata": {},
   "outputs": [],
   "source": [
    "sentimentAnalysis = sortedtweets['Analysis'] "
   ]
  },
  {
   "cell_type": "code",
   "execution_count": 129,
   "id": "67bf49f5-f95d-4a05-8a26-3aeea0278b56",
   "metadata": {},
   "outputs": [],
   "source": [
    "sortedtweets['Analysis'] = sortedtweets['Analysis'].astype(str) #change tweets to type sting do this to lowecase"
   ]
  },
  {
   "cell_type": "code",
   "execution_count": 130,
   "id": "ee12028f-7b03-436d-bdf2-211e8d2adb89",
   "metadata": {},
   "outputs": [],
   "source": [
    "#cell to get the number of sentiments based on sentiment model TextBlod model. Will be used for data visualition\n",
    "numNeutral = 0;\n",
    "numPos =0;\n",
    "numNeg = 0;\n",
    "for i in sentimentAnalysis:\n",
    "    numNeutral += Neutralnum(i)\n",
    "    numPos += posNum(i)\n",
    "    numNeg += negNum(i)"
   ]
  },
  {
   "cell_type": "code",
   "execution_count": 134,
   "id": "782e40c1-ac38-41cc-af31-b93783e9b7be",
   "metadata": {},
   "outputs": [
    {
     "data": {
      "image/png": "[encoded data removed]",
      "text/plain": [
       "<Figure size 432x288 with 1 Axes>"
      ]
     },
     "metadata": {},
     "output_type": "display_data"
    }
   ],
   "source": [
    "#used to plot a pie chart\n",
    "y = np.array([numPos,numNeutral,numNeg])\n",
    "mylabels = [\"Positive \", \"Neutral\", \"Negative\"]\n",
    "plt.pie(y, labels = mylabels)\n",
    "plt.legend(title = \"Tweet Ukraine War Sentiment:\")\n",
    "plt.show() "
   ]
  }
 ],
 "metadata": {
  "kernelspec": {
   "display_name": "Python 3",
   "language": "python",
   "name": "python3"
  },
  "language_info": {
   "codemirror_mode": {
    "name": "ipython",
    "version": 3
   },
   "file_extension": ".py",
   "mimetype": "text/x-python",
   "name": "python",
   "nbconvert_exporter": "python",
   "pygments_lexer": "ipython3",
   "version": "3.8.3"
  }
 },
 "nbformat": 4,
 "nbformat_minor": 5
}
